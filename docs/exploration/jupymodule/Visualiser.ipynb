{
 "cells": [
  {
   "cell_type": "markdown",
   "metadata": {},
   "source": [
    "# Function used for visualisation\n"
   ]
  },
  {
   "cell_type": "code",
   "execution_count": null,
   "metadata": {},
   "outputs": [],
   "source": [
    "import pandas as pd\n",
    "import os\n",
    "import numpy as np\n",
    "\n",
    "# Plotly\n",
    "import plotly.express as px\n",
    "import plotly.graph_objs as go\n",
    "from plotly.subplots import make_subplots\n",
    "import plotly.io as pio"
   ]
  },
  {
   "cell_type": "code",
   "execution_count": null,
   "metadata": {},
   "outputs": [],
   "source": [
    "from pydata import Transformer"
   ]
  },
  {
   "cell_type": "code",
   "execution_count": null,
   "metadata": {},
   "outputs": [],
   "source": [
    "FONT_S = dict(family=\"Courier New, monospace\", size=8)\n",
    "FONT_M = dict(family=\"Courier New, monospace\", size=12)\n",
    "FONT_L = dict(family=\"Courier New, monospace\", size=24)\n",
    "\n",
    "WIDTH_S = 600\n",
    "WIDTH_M = 800\n",
    "WIDTH_L = 1200\n",
    "\n",
    "THEME = \"dark\"  # dark or light"
   ]
  },
  {
   "cell_type": "code",
   "execution_count": null,
   "metadata": {},
   "outputs": [],
   "source": [
    "# Heatmap\n",
    "def heatmap(df: pd.DataFrame, title: str, theme=\"dark\"):\n",
    "    draw_df = df.copy()\n",
    "    draw_df = Transformer.sort_by_week(df)\n",
    "    fig = go.Figure(\n",
    "        data=go.Histogram2d(\n",
    "            x=draw_df[\"startTime\"],\n",
    "            y=draw_df[\"weekday\"],\n",
    "            xbins=dict(start=0, end=24, size=round(1, 1)),\n",
    "            nbinsy=7,\n",
    "            colorscale=\"ice\",\n",
    "        )\n",
    "    )\n",
    "\n",
    "    fig.update_layout(\n",
    "        title={\n",
    "            \"text\": title,\n",
    "            \"y\": 0.9,\n",
    "            \"x\": 0.5,\n",
    "            \"xanchor\": \"center\",\n",
    "            \"yanchor\": \"top\",\n",
    "        },\n",
    "        template=\"plotly_dark\" if theme == \"dark\" else \"plotly_white\",\n",
    "        font=FONT_M,\n",
    "    )\n",
    "    fig.show()"
   ]
  },
  {
   "cell_type": "code",
   "execution_count": null,
   "metadata": {},
   "outputs": [],
   "source": [
    "def heatmap_with_duration(df: pd.DataFrame, title: str, theme=\"dark\"):\n",
    "    draw_df = df.copy()\n",
    "    draw_df = Transformer.sort_by_week(df)\n",
    "    fig = go.Figure(\n",
    "        go.Heatmap(\n",
    "            z=draw_df[\"chargeTimeHrs\"],\n",
    "            x=draw_df[\"startTime\"],\n",
    "            y=draw_df[\"weekday\"],\n",
    "            coloraxis=\"coloraxis\",\n",
    "        )\n",
    "    )\n",
    "\n",
    "    fig.update_layout(\n",
    "        title={\n",
    "            \"text\": title,\n",
    "            \"y\": 0.9,\n",
    "            \"x\": 0.5,\n",
    "            \"xanchor\": \"center\",\n",
    "            \"yanchor\": \"top\",\n",
    "        },\n",
    "        template=\"plotly_dark\" if theme == \"dark\" else \"plotly_white\",\n",
    "        font=FONT_M,\n",
    "    )\n",
    "    fig.show()"
   ]
  },
  {
   "cell_type": "code",
   "execution_count": null,
   "metadata": {},
   "outputs": [],
   "source": [
    "def distace_histogram(df: pd.DataFrame, title: str, theme=\"dark\"):\n",
    "    ev_data = df.copy()\n",
    "    ## Distance from Home (mile)\n",
    "    print(\"There are {} missing values\".format(ev_data[\"distance\"].isna().sum()))\n",
    "    ev_data_distance = ev_data[ev_data[\"distance\"].notna()]\n",
    "    ev_data_distance[\"distance(mi)\"] = ev_data_distance[\"distance\"].astype(float)\n",
    "    ev_data_distance[\"distance(km)\"] = ev_data_distance[\"distance(mi)\"] * 1.60934\n",
    "    fig = go.Figure(data=[go.Histogram(y=ev_data_distance[\"distance(km)\"], nbinsx=10)])\n",
    "\n",
    "    fig.update_layout(\n",
    "        title={\n",
    "            \"text\": title,\n",
    "            \"y\": 0.9,\n",
    "            \"x\": 0.5,\n",
    "            \"xanchor\": \"center\",\n",
    "            \"yanchor\": \"top\",\n",
    "        },\n",
    "        font=FONT_M,\n",
    "        template=\"plotly_dark\" if theme == \"dark\" else \"plotly_white\",\n",
    "    )\n",
    "    fig.update_yaxes(title_text=\"Distance(km)\")\n",
    "    fig.update_xaxes(title_text=\"Count\")\n",
    "    fig.show()"
   ]
  },
  {
   "cell_type": "code",
   "execution_count": null,
   "metadata": {},
   "outputs": [],
   "source": [
    "def facility_pie_chart(ev_data: pd.DataFrame, title: str, theme=\"dark\"):\n",
    "    facility_types = [\"manufacturing\", \"office\", \"research and \\ndevelopment\", \"other\"]\n",
    "    fig = go.Figure(\n",
    "        data=[\n",
    "            go.Pie(\n",
    "                labels=facility_types,\n",
    "                values=ev_data[\"facilityType\"].value_counts(),\n",
    "                hole=0.3,\n",
    "            )\n",
    "        ]\n",
    "    )\n",
    "    fig.update_layout(\n",
    "        title={\n",
    "            \"text\": title,\n",
    "            \"y\": 0.9,\n",
    "            \"x\": 0.5,\n",
    "            \"xanchor\": \"center\",\n",
    "            \"yanchor\": \"top\",\n",
    "        },\n",
    "        font=FONT_M,\n",
    "        template=\"plotly_dark\" if theme == \"dark\" else \"plotly_white\",\n",
    "    )\n",
    "    fig.show()"
   ]
  }
 ],
 "metadata": {
  "kernelspec": {
   "display_name": "data_exploration",
   "language": "python",
   "name": "python3"
  },
  "language_info": {
   "name": "python",
   "version": "3.11.1"
  }
 },
 "nbformat": 4,
 "nbformat_minor": 2
}
